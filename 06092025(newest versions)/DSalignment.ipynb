{
 "cells": [
  {
   "cell_type": "code",
   "execution_count": 113,
   "id": "dd99a672",
   "metadata": {},
   "outputs": [],
   "source": [
    "from DeepSlice import DSModel "
   ]
  },
  {
   "cell_type": "code",
   "execution_count": 134,
   "id": "a820420f",
   "metadata": {},
   "outputs": [],
   "source": [
    "species = 'mouse' #available species are 'mouse' and 'rat'\n",
    "Model = DSModel(species)\n",
    "folderpath = \"/Users/stepviewmaifu/RESEARCH/Fu lab/3D test data/DMH/resized/1\""
   ]
  },
  {
   "cell_type": "code",
   "execution_count": null,
   "id": "dff00dab",
   "metadata": {},
   "outputs": [],
   "source": [
    "import os\n",
    "import re\n",
    "\n",
    "# 获取所有.png文件并排序\n",
    "files = [f for f in os.listdir(folderpath) if f.endswith(\".jpg\")]\n",
    "#files.sort()  # 默认按字母数字顺序排序\n",
    "\n",
    "# 如果你想按数字顺序排序（比如file_1.png, file_2.png...file_10.png）\n",
    "files.sort(key=lambda x: [int(c) if c.isdigit() else c for c in re.split('([0-9]+)', x)])\n",
    "\n",
    "# 重命名文件\n",
    "for i, filename in enumerate(files, start=1):\n",
    "    # 直接在扩展名前插入_sXXX\n",
    "    name, ext = os.path.splitext(filename)\n",
    "    new_name = f\"{name}_s{i:03d}{ext}\"\n",
    "    \n",
    "    # 执行重命名\n",
    "    os.rename(os.path.join(folderpath, filename), os.path.join(folderpath, new_name))\n",
    "    print(f\"Renamed: {filename} -> {new_name}\")"
   ]
  },
  {
   "cell_type": "code",
   "execution_count": null,
   "id": "9a259557",
   "metadata": {},
   "outputs": [],
   "source": [
    "# rename ctrl+Z\n",
    "import os\n",
    "import re\n",
    "\n",
    "folder = \"/Users/stepviewmaifu/🚀RESEARCH🚀/Fu lab/GFP\"  # 替换为实际路径\n",
    "\n",
    "# 获取所有.png文件\n",
    "files = [f for f in os.listdir(folder) if f.endswith(\".png\")]\n",
    "\n",
    "# 重命名文件（删除_sXXX部分）\n",
    "for filename in files:\n",
    "    # 匹配 _s后跟数字的部分（如 _s001, _s123）\n",
    "    new_name = re.sub(r'_s\\d+_', '_', filename)  # 删除 _sXXX_\n",
    "    \n",
    "    # 如果文件名没有其他_，可能直接是 _sXXX.png\n",
    "    if new_name == filename:\n",
    "        new_name = re.sub(r'_s\\d+\\.', '.', filename)  # 处理 _sXXX.png 情况\n",
    "    \n",
    "    # 仅当文件名实际变化时才重命名\n",
    "    if new_name != filename:\n",
    "        os.rename(\n",
    "            os.path.join(folder, filename),\n",
    "            os.path.join(folder, new_name)\n",
    "        )\n",
    "        print(f\"Renamed: {filename} -> {new_name}\")\n",
    "    else:\n",
    "        print(f\"No change needed: {filename}\")"
   ]
  },
  {
   "cell_type": "code",
   "execution_count": 135,
   "id": "2447f22f",
   "metadata": {},
   "outputs": [
    {
     "name": "stdout",
     "output_type": "stream",
     "text": [
      "Found 75 validated image filenames.\n",
      "75/75 [==============================] - 7s 88ms/step\n",
      "75/75 [==============================] - 6s 86ms/step\n"
     ]
    }
   ],
   "source": [
    "Model.predict(folderpath, ensemble=True, section_numbers=False)   "
   ]
  },
  {
   "cell_type": "code",
   "execution_count": 136,
   "id": "a498e2ea",
   "metadata": {},
   "outputs": [
    {
     "name": "stdout",
     "output_type": "stream",
     "text": [
      "75\n",
      "saving to /Users/stepviewmaifu/RESEARCH/Fu lab/3D test data/DMH/resized/1/MyRawResults.json\n"
     ]
    }
   ],
   "source": [
    "Model.save_predictions(folderpath + '/MyRawResults')"
   ]
  },
  {
   "cell_type": "code",
   "execution_count": 137,
   "id": "5c4e0896",
   "metadata": {},
   "outputs": [
    {
     "name": "stdout",
     "output_type": "stream",
     "text": [
      "DV angle: 2.9653835806544526\n",
      "ML angle: -1.2900307793548418\n",
      "DV angle: 2.964471129864657\n",
      "ML angle: -1.2900241857725583\n"
     ]
    }
   ],
   "source": [
    "Model.propagate_angles() "
   ]
  },
  {
   "cell_type": "code",
   "execution_count": 138,
   "id": "3f8e44e2",
   "metadata": {},
   "outputs": [],
   "source": [
    "Model.enforce_index_order()    "
   ]
  },
  {
   "cell_type": "code",
   "execution_count": 139,
   "id": "5a3719ee",
   "metadata": {},
   "outputs": [
    {
     "name": "stdout",
     "output_type": "stream",
     "text": [
      "predicted thickness is 139.94468504355777µm\n"
     ]
    }
   ],
   "source": [
    "#alternatively if you know the precise spacing (ie; 1, 2, 4, indicates that section 3 has been left out.    \n",
    "#Furthermore if you know the exact section thickness in microns this can be included instead of None\n",
    "#if your sections are numbered rostral to caudal you will need to specify a negative section_thickness      \n",
    "Model.enforce_index_spacing(section_thickness = None)\n",
    "\n",
    "# 需要正确赋值，正负很重要，NONE也是可以的"
   ]
  },
  {
   "cell_type": "code",
   "execution_count": 140,
   "id": "8a17f05c",
   "metadata": {},
   "outputs": [
    {
     "name": "stdout",
     "output_type": "stream",
     "text": [
      "75\n",
      "saving to /Users/stepviewmaifu/RESEARCH/Fu lab/3D test data/DMH/resized/1/MyResults.json\n"
     ]
    }
   ],
   "source": [
    "Model.save_predictions(folderpath + '/MyResults')"
   ]
  },
  {
   "cell_type": "markdown",
   "id": "27831c2d",
   "metadata": {},
   "source": [
    "# 如何使用DeepSlice的Results?\n"
   ]
  },
  {
   "cell_type": "markdown",
   "id": "58d968dc",
   "metadata": {},
   "source": [
    "| 参数名             | 文件类型         | 含义说明（By ChatGPT）                                                   |\n",
    "|--------------------|------------------|-----------------------------------------------------------|\n",
    "| Filenames          | `.csv`           | 切片图像文件名（如 `641_2002_2565_NM01_s002.png`）         |\n",
    "| ox, oy, oz         | `.csv`           | 切片中心在 Allen Brain Atlas 模板空间的3D坐标 (anchoring[0:3]) |\n",
    "| ux, uy, uz         | `.csv`           | 切片横向变换基向量 U，描述切片如何在空间中旋转/倾斜（anchoring[3:6]） |\n",
    "| vx, vy, vz         | `.csv`           | 切片纵向变换基向量 V，描述切片如何在空间中旋转/倾斜（anchoring[6:9]） |\n",
    "| width              | `.csv`           | 图像宽度（像素单位）                                       |\n",
    "| height             | `.csv`           | 图像高度（像素单位）                                       |\n",
    "| nr                 | `.csv`           | 切片编号，通常与文件名中的 sXXX 对应                        |\n",
    "| bad_section        | `.csv`           | 是否为坏切片（布尔值 TRUE / FALSE，配准时自动标注）         |\n",
    "| depths             | `.csv`           | 切片在大脑样本中的纵向空间位置（估算值，μm 或空间单位）       |\n",
    "| filename           | `.json`          | 切片图像文件名，和 `.csv` 的 `Filenames` 对应             |\n",
    "| anchoring[0:3]     | `.json`          | 切片中心位置，3D坐标                                       |\n",
    "| anchoring[3:6]     | `.json`          | 切片横向基向量 U，空间方向                                 |\n",
    "| anchoring[6:9]     | `.json`          | 切片纵向基向量 V，空间方向                                 |\n",
    "| width              | `.json`          | 图像宽度（像素单位）                                       |\n",
    "| height             | `.json`          | 图像高度（像素单位）                                       |\n",
    "| nr                 | `.json`          | 切片编号，通常与文件名中的 sXXX 对应                        |\n",
    "| target             | `.json`          | 配准所用的参考大脑空间，例如 Allen Brain Atlas v3          |\n",
    "| aligner            | `.json`          | DeepSlice 使用的配准算法版本（如 `prerelease_1.0.0`）       |\n",
    "| markers            | `.json`          | 切片中手动标注的点位坐标列表（如果有）                     |\n"
   ]
  }
 ],
 "metadata": {
  "kernelspec": {
   "display_name": "Python 3 (ipykernel)",
   "language": "python",
   "name": "python3"
  },
  "language_info": {
   "codemirror_mode": {
    "name": "ipython",
    "version": 3
   },
   "file_extension": ".py",
   "mimetype": "text/x-python",
   "name": "python",
   "nbconvert_exporter": "python",
   "pygments_lexer": "ipython3",
   "version": "3.11.5"
  }
 },
 "nbformat": 4,
 "nbformat_minor": 5
}
